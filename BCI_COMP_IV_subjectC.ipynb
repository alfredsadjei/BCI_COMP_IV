{
 "cells": [
  {
   "cell_type": "code",
   "execution_count": 1,
   "metadata": {},
   "outputs": [],
   "source": [
    "import numpy as np\n",
    "import scipy.io\n",
    "import matplotlib.pyplot as plt\n",
    "import scipy\n",
    "import ipynb.fs\n",
    "import pandas as pd\n",
    "\n",
    "from ipynb.fs.defs.BCI_COMP_IV_functions import (extractInfo, featureExtraction, createFilterBank,\n",
    "                                                testWindowLength, testClassifier, testFrequencyBand,\n",
    "                                                testWindowStartTime,testWindowStartTime_Length, startRunningClassifier,\n",
    "                                                tuneModelHyperParams)\n"
   ]
  },
  {
   "cell_type": "code",
   "execution_count": 2,
   "metadata": {},
   "outputs": [
    {
     "name": "stderr",
     "output_type": "stream",
     "text": [
      "/Library/Frameworks/Python.framework/Versions/3.9/lib/python3.9/site-packages/sklearn/cluster/_kmeans.py:870: FutureWarning: The default value of `n_init` will change from 10 to 'auto' in 1.4. Set the value of `n_init` explicitly to suppress the warning\n",
      "  warnings.warn(\n"
     ]
    }
   ],
   "source": [
    "dataC = scipy.io.loadmat(\"BCICIV_1calib_1000Hz_mat/BCICIV_calib_ds1c_1000Hz.mat\")\n",
    "\n",
    "dataC[\"cnt\"] = 0.1 * dataC[\"cnt\"].astype(float)\n",
    "\n",
    "eeg = dataC[\"cnt\"].T\n",
    "nChannels, nSamples = eeg.shape\n",
    "\n",
    "motionIntentComp, idleStateComp = [0,-1], [0,-1]\n",
    "\n",
    "calibDataStore, testData_motionIntent, _ = featureExtraction(dataC,0.7, motionIntentComp, idleStateComp)\n",
    "\n",
    "calibData_idle_motionIntent, testData_idle_motionIntent, W_idle_motionIntent = featureExtraction(dataC,0.7,motionIntentComp, idleStateComp,ExtractionType=\"idle_motionIntent\")\n"
   ]
  },
  {
   "attachments": {},
   "cell_type": "markdown",
   "metadata": {},
   "source": [
    "### Base Classifiers for detecting Idle State (no resampling)"
   ]
  },
  {
   "cell_type": "code",
   "execution_count": 3,
   "metadata": {},
   "outputs": [],
   "source": [
    "from sklearn.discriminant_analysis import LinearDiscriminantAnalysis as LDA\n",
    "from sklearn.svm import SVC\n",
    "from sklearn.linear_model import LogisticRegression\n",
    "from sklearn.model_selection import cross_val_score,cross_val_predict\n",
    "from sklearn.metrics import roc_curve, auc, accuracy_score\n",
    "\n",
    "\n",
    "ldaModel = LDA()\n",
    "SVMmodel = SVC(probability=True,class_weight=\"balanced\")\n",
    "logRegModel = LogisticRegression(class_weight=\"balanced\")\n"
   ]
  },
  {
   "cell_type": "code",
   "execution_count": 4,
   "metadata": {},
   "outputs": [
    {
     "name": "stdout",
     "output_type": "stream",
     "text": [
      "Cross Validation Score\n",
      "-----------------------\n",
      "LDA:  0.9892857142857142\n",
      "Logistic Regression:  0.9892857142857142\n",
      "SVM:  0.9892857142857142\n",
      "\n"
     ]
    }
   ],
   "source": [
    "nCols = len(calibData_idle_motionIntent.columns)\n",
    "\n",
    "print(\"Cross Validation Score\")\n",
    "print(\"-----------------------\")\n",
    "print(\"LDA: \",np.mean(cross_val_score(ldaModel,calibData_idle_motionIntent.iloc[:,:nCols-1], calibData_idle_motionIntent.iloc[:,nCols-1],cv=5)))\n",
    "print(\"Logistic Regression: \",np.mean(cross_val_score(logRegModel,calibData_idle_motionIntent.iloc[:,:nCols-1], calibData_idle_motionIntent.iloc[:,nCols-1],cv=5)))\n",
    "print(\"SVM: \",np.mean(cross_val_score(SVMmodel,calibData_idle_motionIntent.iloc[:,:nCols-1], calibData_idle_motionIntent.iloc[:,nCols-1],cv=5)))\n",
    "print()\n"
   ]
  },
  {
   "attachments": {},
   "cell_type": "markdown",
   "metadata": {},
   "source": [
    "### Tuning Classifiers for detecting Idle State (no resampling)"
   ]
  },
  {
   "cell_type": "code",
   "execution_count": 5,
   "metadata": {},
   "outputs": [],
   "source": [
    "from sklearn.model_selection import GridSearchCV\n",
    "import warnings\n",
    "warnings.filterwarnings('ignore')\n"
   ]
  },
  {
   "cell_type": "code",
   "execution_count": 6,
   "metadata": {},
   "outputs": [
    {
     "data": {
      "text/plain": [
       "defaultdict(dict,\n",
       "            {'accuracy': {'SVC': (SVC(C=100, class_weight='balanced', gamma=1, probability=True),\n",
       "               0.9833333333333333),\n",
       "              'LogReg': (LogisticRegression(C=0.005428675439323859, solver='newton-cg'),\n",
       "               0.9833333333333333),\n",
       "              'LDA': (LinearDiscriminantAnalysis(shrinkage=0.0, solver='lsqr'),\n",
       "               0.9916666666666667)},\n",
       "             'roc_auc': {'SVC': (SVC(C=0.0001, class_weight='balanced', gamma=1, probability=True),\n",
       "               0.5166666666666667),\n",
       "              'LogReg': (LogisticRegression(C=0.001, class_weight='balanced', solver='newton-cg'),\n",
       "               0.9916666666666667),\n",
       "              'LDA': (LinearDiscriminantAnalysis(shrinkage=0.0, solver='lsqr'),\n",
       "               0.9916666666666667)},\n",
       "             'f1': {'SVC': (SVC(C=100, class_weight='balanced', gamma=1, probability=True),\n",
       "               0.9833333333333333),\n",
       "              'LogReg': (LogisticRegression(C=0.005428675439323859, solver='newton-cg'),\n",
       "               0.9833333333333333),\n",
       "              'LDA': (LinearDiscriminantAnalysis(shrinkage=0.0, solver='lsqr'),\n",
       "               0.9916666666666667)}})"
      ]
     },
     "execution_count": 6,
     "metadata": {},
     "output_type": "execute_result"
    }
   ],
   "source": [
    "bestMods = tuneModelHyperParams(calibData_idle_motionIntent.iloc[:,:nCols-1], calibData_idle_motionIntent.iloc[:,nCols-1],testData_idle_motionIntent.iloc[:,:nCols-1], testData_idle_motionIntent.iloc[:,nCols-1])\n",
    "bestMods"
   ]
  },
  {
   "cell_type": "code",
   "execution_count": 7,
   "metadata": {},
   "outputs": [],
   "source": [
    "bestModel, bestPerformance = None, 0\n",
    "\n",
    "for metric in bestMods:\n",
    "    for model in bestMods[metric]:\n",
    "        mod, perf = bestMods[metric][model]\n",
    "\n",
    "        if perf > bestPerformance:\n",
    "            bestModel, bestPerformance = mod, perf\n"
   ]
  },
  {
   "cell_type": "code",
   "execution_count": 8,
   "metadata": {},
   "outputs": [
    {
     "name": "stdout",
     "output_type": "stream",
     "text": [
      "LinearDiscriminantAnalysis(shrinkage=0.0, solver='lsqr') 0.9916666666666667\n"
     ]
    }
   ],
   "source": [
    "print(bestModel, bestPerformance)\n"
   ]
  },
  {
   "cell_type": "code",
   "execution_count": 9,
   "metadata": {},
   "outputs": [],
   "source": [
    "idlesStateClassifier = bestMods[\"roc_auc\"][\"LogReg\"][0]\n"
   ]
  },
  {
   "attachments": {},
   "cell_type": "markdown",
   "metadata": {},
   "source": [
    "### Base Classifier for classifying motion intent signals"
   ]
  },
  {
   "cell_type": "code",
   "execution_count": 10,
   "metadata": {},
   "outputs": [],
   "source": [
    "\n",
    "ldaModel = LDA()\n",
    "SVMmodel = SVC(probability=True)\n",
    "logRegModel = LogisticRegression()\n"
   ]
  },
  {
   "cell_type": "code",
   "execution_count": 11,
   "metadata": {},
   "outputs": [
    {
     "name": "stdout",
     "output_type": "stream",
     "text": [
      "RO\n",
      "-----------\n",
      "LDA:  0.9014778325123153\n",
      "Logistic Regression:  0.9014778325123153\n",
      "SVM:  0.894088669950739\n",
      "\n",
      "SMOTE\n",
      "-----------\n",
      "LDA:  0.9086206896551724\n",
      "Logistic Regression:  0.9014778325123153\n",
      "SVM:  0.9012315270935961\n",
      "\n",
      "RU\n",
      "-----------\n",
      "LDA:  0.9060846560846562\n",
      "Logistic Regression:  0.9060846560846562\n",
      "SVM:  0.906084656084656\n",
      "\n",
      "CC\n",
      "-----------\n",
      "LDA:  0.8917989417989418\n",
      "Logistic Regression:  0.898941798941799\n",
      "SVM:  0.9063492063492063\n",
      "\n",
      "None\n",
      "-----------\n",
      "LDA:  0.9000000000000001\n",
      "Logistic Regression:  0.9000000000000001\n",
      "SVM:  0.9000000000000001\n",
      "\n"
     ]
    }
   ],
   "source": [
    "for name, calibData in calibDataStore.items():\n",
    "\n",
    "    nCols = len(calibData.columns)\n",
    "    print(name,end=\"\\n\")\n",
    "    print(\"-----------\")\n",
    "\n",
    "    print(\"LDA: \",np.mean(cross_val_score(ldaModel,calibData.iloc[:,:nCols-1], calibData.iloc[:,nCols-1],cv=5)))\n",
    "    print(\"Logistic Regression: \",np.mean(cross_val_score(logRegModel,calibData.iloc[:,:nCols-1], calibData.iloc[:,nCols-1],cv=5)))\n",
    "    print(\"SVM: \",np.mean(cross_val_score(SVMmodel,calibData.iloc[:,:nCols-1], calibData.iloc[:,nCols-1],cv=5)))\n",
    "    print()\n"
   ]
  },
  {
   "attachments": {},
   "cell_type": "markdown",
   "metadata": {},
   "source": [
    "### Tuned Classification"
   ]
  },
  {
   "cell_type": "code",
   "execution_count": 12,
   "metadata": {},
   "outputs": [
    {
     "name": "stdout",
     "output_type": "stream",
     "text": [
      "RO\n",
      "-------\n",
      "Model = LogisticRegression(C=0.09102981779915217, class_weight='balanced',\n",
      "                   solver='liblinear'), Performance = 0.9166666666666666, Metric = roc_auc \n",
      "\n",
      "All metrics = defaultdict(<class 'dict'>, {'accuracy': {'SVC': (SVC(C=1000, class_weight='balanced', gamma=0.01, probability=True), 0.9), 'LogReg': (LogisticRegression(C=0.49417133613238334, class_weight='balanced', penalty='l1',\n",
      "                   solver='liblinear'), 0.9), 'LDA': (LinearDiscriminantAnalysis(shrinkage=0.0, solver='lsqr'), 0.9)}, 'roc_auc': {'SVC': (SVC(C=1000, class_weight='balanced', gamma=0.1, probability=True), 0.9), 'LogReg': (LogisticRegression(C=0.09102981779915217, class_weight='balanced',\n",
      "                   solver='liblinear'), 0.9166666666666666), 'LDA': (LinearDiscriminantAnalysis(shrinkage=0.5, solver='lsqr'), 0.9)}, 'f1': {'SVC': (SVC(C=1000, class_weight='balanced', gamma=0.01, probability=True), 0.9), 'LogReg': (LogisticRegression(C=0.49417133613238334, class_weight='balanced', penalty='l1',\n",
      "                   solver='liblinear'), 0.9), 'LDA': (LinearDiscriminantAnalysis(shrinkage=0.0, solver='lsqr'), 0.9)}})\n",
      "\n",
      "SMOTE\n",
      "-------\n",
      "Model = SVC(C=1000, class_weight='balanced', gamma=0.01, probability=True), Performance = 0.9, Metric = accuracy \n",
      "\n",
      "All metrics = defaultdict(<class 'dict'>, {'accuracy': {'SVC': (SVC(C=1000, class_weight='balanced', gamma=0.01, probability=True), 0.9), 'LogReg': (LogisticRegression(C=0.655128556859551, class_weight='balanced', penalty='l1',\n",
      "                   solver='liblinear'), 0.9), 'LDA': (LinearDiscriminantAnalysis(shrinkage=0.0, solver='lsqr'), 0.9)}, 'roc_auc': {'SVC': (SVC(C=1000, class_weight='balanced', gamma=0.1, probability=True), 0.9), 'LogReg': (LogisticRegression(C=0.06866488450043001, class_weight='balanced',\n",
      "                   solver='liblinear'), 0.9), 'LDA': (LinearDiscriminantAnalysis(shrinkage=0.5, solver='lsqr'), 0.9)}, 'f1': {'SVC': (SVC(C=1000, class_weight='balanced', gamma=0.001, probability=True), 0.9), 'LogReg': (LogisticRegression(C=0.655128556859551, class_weight='balanced', penalty='l1',\n",
      "                   solver='liblinear'), 0.9), 'LDA': (LinearDiscriminantAnalysis(shrinkage=0.0, solver='lsqr'), 0.9)}})\n",
      "\n",
      "RU\n",
      "-------\n",
      "Model = SVC(C=1000, class_weight='balanced', gamma=1, probability=True), Performance = 0.9166666666666666, Metric = accuracy \n",
      "\n",
      "All metrics = defaultdict(<class 'dict'>, {'accuracy': {'SVC': (SVC(C=1000, class_weight='balanced', gamma=1, probability=True), 0.9166666666666666), 'LogReg': (LogisticRegression(C=0.012648552168552958, class_weight='balanced',\n",
      "                   solver='newton-cg'), 0.8833333333333333), 'LDA': (LinearDiscriminantAnalysis(shrinkage=0.9, solver='lsqr'), 0.8833333333333333)}, 'roc_auc': {'SVC': (SVC(C=10, class_weight='balanced', gamma=1, probability=True), 0.9), 'LogReg': (LogisticRegression(C=0.655128556859551, class_weight='balanced', penalty='l1',\n",
      "                   solver='liblinear'), 0.9), 'LDA': (LinearDiscriminantAnalysis(shrinkage=0.1, solver='lsqr'), 0.9)}, 'f1': {'SVC': (SVC(C=1, class_weight='balanced', gamma=1, probability=True), 0.9166666666666666), 'LogReg': (LogisticRegression(C=0.012648552168552958, class_weight='balanced',\n",
      "                   solver='newton-cg'), 0.8833333333333333), 'LDA': (LinearDiscriminantAnalysis(shrinkage=0.9, solver='lsqr'), 0.8833333333333333)}})\n",
      "\n",
      "CC\n",
      "-------\n",
      "Model = SVC(C=1000, class_weight='balanced', gamma=0.1, probability=True), Performance = 0.9, Metric = accuracy \n",
      "\n",
      "All metrics = defaultdict(<class 'dict'>, {'accuracy': {'SVC': (SVC(C=1000, class_weight='balanced', gamma=0.1, probability=True), 0.9), 'LogReg': (LogisticRegression(C=0.001, class_weight='balanced', solver='newton-cg'), 0.8833333333333333), 'LDA': (LinearDiscriminantAnalysis(shrinkage=0.8, solver='lsqr'), 0.8833333333333333)}, 'roc_auc': {'SVC': (SVC(C=1, class_weight='balanced', gamma=1, kernel='linear', probability=True), 0.9), 'LogReg': (LogisticRegression(C=0.21209508879201905, solver='liblinear'), 0.9), 'LDA': (LinearDiscriminantAnalysis(shrinkage=0.30000000000000004, solver='lsqr'), 0.9)}, 'f1': {'SVC': (SVC(C=1000, class_weight='balanced', gamma=0.1, probability=True), 0.9), 'LogReg': (LogisticRegression(C=0.0071968567300115215, solver='newton-cg'), 0.8833333333333333), 'LDA': (LinearDiscriminantAnalysis(shrinkage=0.8, solver='lsqr'), 0.8833333333333333)}})\n",
      "\n",
      "None\n",
      "-------\n",
      "Model = LogisticRegression(C=0.21209508879201905, class_weight='balanced',\n",
      "                   solver='liblinear'), Performance = 0.9, Metric = accuracy \n",
      "\n",
      "All metrics = defaultdict(<class 'dict'>, {'accuracy': {'SVC': (SVC(C=10, class_weight='balanced', gamma=0.01, probability=True), 0.8833333333333333), 'LogReg': (LogisticRegression(C=0.21209508879201905, class_weight='balanced',\n",
      "                   solver='liblinear'), 0.9), 'LDA': (LinearDiscriminantAnalysis(shrinkage=0.0, solver='lsqr'), 0.9)}, 'roc_auc': {'SVC': (SVC(C=1000, gamma=0.1, probability=True), 0.9), 'LogReg': (LogisticRegression(C=0.022229964825261943, solver='liblinear'), 0.9), 'LDA': (LinearDiscriminantAnalysis(shrinkage=0.4, solver='lsqr'), 0.9)}, 'f1': {'SVC': (SVC(C=1000, class_weight='balanced', gamma=0.001, probability=True), 0.9), 'LogReg': (LogisticRegression(C=0.28117686979742307, penalty='l1', solver='liblinear'), 0.9), 'LDA': (LinearDiscriminantAnalysis(shrinkage=0.0, solver='lsqr'), 0.9)}})\n",
      "\n"
     ]
    }
   ],
   "source": [
    "for name, calibData in calibDataStore.items():\n",
    "\n",
    "    bestMods = tuneModelHyperParams(calibData.iloc[:,:nCols-1],\n",
    "                                    calibData.iloc[:,nCols-1],\n",
    "                                    testData_motionIntent.iloc[:,:nCols-1],\n",
    "                                    testData_motionIntent.iloc[:,nCols-1])\n",
    "\n",
    "    bestModel, bestPerformance = None, 0\n",
    "\n",
    "    for metric in bestMods:\n",
    "        for model in bestMods[metric]:\n",
    "            mod, perf = bestMods[metric][model]\n",
    "\n",
    "            if perf > bestPerformance:\n",
    "                bestMetric, bestModel, bestPerformance = metric, mod, perf\n",
    "\n",
    "    print(name)\n",
    "    print(\"-------\")\n",
    "    print(f\"Model = {bestModel}, Performance = {bestPerformance}, Metric = {bestMetric} \")\n",
    "    print()\n",
    "    print(f\"All metrics = {bestMods}\")\n",
    "    print()\n"
   ]
  },
  {
   "attachments": {},
   "cell_type": "markdown",
   "metadata": {},
   "source": [
    "### Investigating the effect of varying the frquency band (for each resampling technique)"
   ]
  },
  {
   "cell_type": "code",
   "execution_count": 13,
   "metadata": {},
   "outputs": [],
   "source": [
    "channelNames,sRate,classLabels,eventOnsets,eventCodes,labels = extractInfo(dataC,nSamples)\n",
    "\n",
    "filterBank = createFilterBank(sRate)\n",
    "\n",
    "freqBandEstimators = {}\n"
   ]
  },
  {
   "cell_type": "code",
   "execution_count": 14,
   "metadata": {},
   "outputs": [
    {
     "name": "stdout",
     "output_type": "stream",
     "text": [
      "RO\n",
      "------------\n",
      "8-12 : 0.9166666666666666 (roc_auc)\n",
      "\n",
      "All Metrics: defaultdict(<class 'dict'>, {'accuracy': {'SVC': (SVC(C=1000, class_weight='balanced', gamma=0.01, probability=True), 0.9), 'LogReg': (LogisticRegression(C=0.49417133613238334, class_weight='balanced', penalty='l1',\n",
      "                   solver='liblinear'), 0.9), 'LDA': (LinearDiscriminantAnalysis(shrinkage=0.0, solver='lsqr'), 0.9)}, 'roc_auc': {'SVC': (SVC(C=1000, class_weight='balanced', gamma=0.1, probability=True), 0.9), 'LogReg': (LogisticRegression(C=0.09102981779915217, class_weight='balanced',\n",
      "                   solver='liblinear'), 0.9166666666666666), 'LDA': (LinearDiscriminantAnalysis(shrinkage=0.5, solver='lsqr'), 0.9)}, 'f1': {'SVC': (SVC(C=1000, class_weight='balanced', gamma=0.01, probability=True), 0.9), 'LogReg': (LogisticRegression(C=0.49417133613238334, class_weight='balanced', penalty='l1',\n",
      "                   solver='liblinear'), 0.9), 'LDA': (LinearDiscriminantAnalysis(shrinkage=0.0, solver='lsqr'), 0.9)}})\n",
      "************************\n",
      "8-15 : 0.9333333333333333 (accuracy)\n",
      "\n",
      "All Metrics: defaultdict(<class 'dict'>, {'accuracy': {'SVC': (SVC(C=1, class_weight='balanced', gamma=1, kernel='linear', probability=True), 0.9166666666666666), 'LogReg': (LogisticRegression(C=0.15998587196060574, solver='newton-cg'), 0.9333333333333333), 'LDA': (LinearDiscriminantAnalysis(shrinkage=0.2, solver='lsqr'), 0.9333333333333333)}, 'roc_auc': {'SVC': (SVC(C=0.0001, class_weight='balanced', gamma=1, kernel='linear',\n",
      "    probability=True), 0.8666666666666667), 'LogReg': (LogisticRegression(C=0.029470517025518096, class_weight='balanced',\n",
      "                   solver='liblinear'), 0.9166666666666666), 'LDA': (LinearDiscriminantAnalysis(shrinkage=0.9, solver='lsqr'), 0.9333333333333333)}, 'f1': {'SVC': (SVC(C=1, class_weight='balanced', gamma=1, kernel='linear', probability=True), 0.9166666666666666), 'LogReg': (LogisticRegression(C=0.15998587196060574, solver='newton-cg'), 0.9333333333333333), 'LDA': (LinearDiscriminantAnalysis(shrinkage=0.2, solver='lsqr'), 0.9333333333333333)}})\n",
      "************************\n",
      "13-30 : 0.8666666666666667 (accuracy)\n",
      "\n",
      "All Metrics: defaultdict(<class 'dict'>, {'accuracy': {'SVC': (SVC(C=10, class_weight='balanced', gamma=0.01, probability=True), 0.8666666666666667), 'LogReg': (LogisticRegression(C=0.03906939937054617, class_weight='balanced',\n",
      "                   solver='liblinear'), 0.85), 'LDA': (LinearDiscriminantAnalysis(shrinkage=0.4, solver='lsqr'), 0.85)}, 'roc_auc': {'SVC': (SVC(C=0.0001, gamma=1, kernel='linear', probability=True), 0.8333333333333334), 'LogReg': (LogisticRegression(C=0.21209508879201905, class_weight='balanced', penalty='l1',\n",
      "                   solver='liblinear'), 0.85), 'LDA': (LinearDiscriminantAnalysis(shrinkage=0.8, solver='lsqr'), 0.85)}, 'f1': {'SVC': (SVC(C=1, class_weight='balanced', gamma=1, kernel='linear', probability=True), 0.85), 'LogReg': (LogisticRegression(C=0.03906939937054617, class_weight='balanced',\n",
      "                   solver='liblinear'), 0.85), 'LDA': (LinearDiscriminantAnalysis(shrinkage=0.9, solver='lsqr'), 0.85)}})\n",
      "************************\n",
      "\n",
      "SMOTE\n",
      "------------\n",
      "8-12 : 0.9 (accuracy)\n",
      "\n",
      "All Metrics: defaultdict(<class 'dict'>, {'accuracy': {'SVC': (SVC(C=1000, class_weight='balanced', gamma=0.01, probability=True), 0.9), 'LogReg': (LogisticRegression(C=0.655128556859551, class_weight='balanced', penalty='l1',\n",
      "                   solver='liblinear'), 0.9), 'LDA': (LinearDiscriminantAnalysis(shrinkage=0.0, solver='lsqr'), 0.9)}, 'roc_auc': {'SVC': (SVC(C=1000, class_weight='balanced', gamma=0.1, probability=True), 0.9), 'LogReg': (LogisticRegression(C=0.06866488450043001, class_weight='balanced',\n",
      "                   solver='liblinear'), 0.9), 'LDA': (LinearDiscriminantAnalysis(shrinkage=0.5, solver='lsqr'), 0.9)}, 'f1': {'SVC': (SVC(C=1000, class_weight='balanced', gamma=0.001, probability=True), 0.9), 'LogReg': (LogisticRegression(C=0.655128556859551, class_weight='balanced', penalty='l1',\n",
      "                   solver='liblinear'), 0.9), 'LDA': (LinearDiscriminantAnalysis(shrinkage=0.0, solver='lsqr'), 0.9)}})\n",
      "************************\n",
      "8-15 : 0.9333333333333333 (accuracy)\n",
      "\n",
      "All Metrics: defaultdict(<class 'dict'>, {'accuracy': {'SVC': (SVC(C=1, class_weight='balanced', gamma=1, kernel='linear', probability=True), 0.9333333333333333), 'LogReg': (LogisticRegression(C=0.001, class_weight='balanced', solver='newton-cg'), 0.9333333333333333), 'LDA': (LinearDiscriminantAnalysis(shrinkage=0.2, solver='lsqr'), 0.9333333333333333)}, 'roc_auc': {'SVC': (SVC(C=0.0001, class_weight='balanced', gamma=1, kernel='linear',\n",
      "    probability=True), 0.8833333333333333), 'LogReg': (LogisticRegression(C=0.022229964825261943, class_weight='balanced',\n",
      "                   solver='liblinear'), 0.9), 'LDA': (LinearDiscriminantAnalysis(shrinkage=0.9, solver='lsqr'), 0.9333333333333333)}, 'f1': {'SVC': (SVC(C=1, class_weight='balanced', gamma=1, kernel='linear', probability=True), 0.9333333333333333), 'LogReg': (LogisticRegression(C=0.001, class_weight='balanced', solver='newton-cg'), 0.9333333333333333), 'LDA': (LinearDiscriminantAnalysis(shrinkage=0.2, solver='lsqr'), 0.9333333333333333)}})\n",
      "************************\n",
      "13-30 : 0.8666666666666667 (accuracy)\n",
      "\n",
      "All Metrics: defaultdict(<class 'dict'>, {'accuracy': {'SVC': (SVC(C=10, class_weight='balanced', gamma=0.01, probability=True), 0.8666666666666667), 'LogReg': (LogisticRegression(C=0.0017575106248547913, class_weight='balanced',\n",
      "                   solver='liblinear'), 0.8333333333333334), 'LDA': (LinearDiscriminantAnalysis(shrinkage=0.9, solver='lsqr'), 0.85)}, 'roc_auc': {'SVC': (SVC(C=0.0001, class_weight='balanced', gamma=1, kernel='linear',\n",
      "    probability=True), 0.8666666666666667), 'LogReg': (LogisticRegression(C=0.21209508879201905, penalty='l1', solver='liblinear'), 0.85), 'LDA': (LinearDiscriminantAnalysis(shrinkage=0.9, solver='lsqr'), 0.85)}, 'f1': {'SVC': (SVC(C=10, class_weight='balanced', gamma=0.01, probability=True), 0.8666666666666667), 'LogReg': (LogisticRegression(C=0.0017575106248547913, class_weight='balanced',\n",
      "                   solver='liblinear'), 0.8333333333333334), 'LDA': (LinearDiscriminantAnalysis(shrinkage=0.9, solver='lsqr'), 0.85)}})\n",
      "************************\n",
      "\n",
      "RU\n",
      "------------\n",
      "8-12 : 0.9166666666666666 (accuracy)\n",
      "\n",
      "All Metrics: defaultdict(<class 'dict'>, {'accuracy': {'SVC': (SVC(C=1000, class_weight='balanced', gamma=1, probability=True), 0.9166666666666666), 'LogReg': (LogisticRegression(C=0.012648552168552958, class_weight='balanced',\n",
      "                   solver='newton-cg'), 0.8833333333333333), 'LDA': (LinearDiscriminantAnalysis(shrinkage=0.9, solver='lsqr'), 0.8833333333333333)}, 'roc_auc': {'SVC': (SVC(C=10, class_weight='balanced', gamma=1, probability=True), 0.9), 'LogReg': (LogisticRegression(C=0.655128556859551, class_weight='balanced', penalty='l1',\n",
      "                   solver='liblinear'), 0.9), 'LDA': (LinearDiscriminantAnalysis(shrinkage=0.1, solver='lsqr'), 0.9)}, 'f1': {'SVC': (SVC(C=1, class_weight='balanced', gamma=1, probability=True), 0.9166666666666666), 'LogReg': (LogisticRegression(C=0.012648552168552958, class_weight='balanced',\n",
      "                   solver='newton-cg'), 0.8833333333333333), 'LDA': (LinearDiscriminantAnalysis(shrinkage=0.9, solver='lsqr'), 0.8833333333333333)}})\n",
      "************************\n",
      "8-15 : 0.9333333333333333 (accuracy)\n",
      "\n",
      "All Metrics: defaultdict(<class 'dict'>, {'accuracy': {'SVC': (SVC(C=0.001, class_weight='balanced', gamma=1, probability=True), 0.9333333333333333), 'LogReg': (LogisticRegression(C=0.0517947467923121, class_weight='balanced',\n",
      "                   solver='liblinear'), 0.9166666666666666), 'LDA': (LinearDiscriminantAnalysis(shrinkage=0.7000000000000001, solver='lsqr'), 0.9333333333333333)}, 'roc_auc': {'SVC': (SVC(C=0.0001, class_weight='balanced', gamma=1, kernel='linear',\n",
      "    probability=True), 0.8833333333333333), 'LogReg': (LogisticRegression(C=0.001, class_weight='balanced', solver='newton-cg'), 0.9333333333333333), 'LDA': (LinearDiscriminantAnalysis(shrinkage=0.8, solver='lsqr'), 0.9333333333333333)}, 'f1': {'SVC': (SVC(C=1, class_weight='balanced', gamma=1, kernel='linear', probability=True), 0.9166666666666666), 'LogReg': (LogisticRegression(C=0.0517947467923121, class_weight='balanced',\n",
      "                   solver='liblinear'), 0.9166666666666666), 'LDA': (LinearDiscriminantAnalysis(shrinkage=0.7000000000000001, solver='lsqr'), 0.9333333333333333)}})\n",
      "************************\n",
      "13-30 : 0.8666666666666667 (accuracy)\n",
      "\n",
      "All Metrics: defaultdict(<class 'dict'>, {'accuracy': {'SVC': (SVC(C=1000, class_weight='balanced', gamma=1, probability=True), 0.8166666666666667), 'LogReg': (LogisticRegression(C=0.28117686979742307, penalty='l1', solver='liblinear'), 0.85), 'LDA': (LinearDiscriminantAnalysis(shrinkage=0.0, solver='lsqr'), 0.8666666666666667)}, 'roc_auc': {'SVC': (SVC(C=1, class_weight='balanced', gamma=0.1, probability=True), 0.8666666666666667), 'LogReg': (LogisticRegression(C=0.0071968567300115215, solver='liblinear'), 0.85), 'LDA': (LinearDiscriminantAnalysis(shrinkage=0.9, solver='lsqr'), 0.8666666666666667)}, 'f1': {'SVC': (SVC(C=1000, class_weight='balanced', gamma=1, probability=True), 0.8166666666666667), 'LogReg': (LogisticRegression(C=0.28117686979742307, penalty='l1', solver='liblinear'), 0.85), 'LDA': (LinearDiscriminantAnalysis(shrinkage=0.5, solver='lsqr'), 0.8666666666666667)}})\n",
      "************************\n",
      "\n",
      "CC\n",
      "------------\n",
      "8-12 : 0.9 (accuracy)\n",
      "\n",
      "All Metrics: defaultdict(<class 'dict'>, {'accuracy': {'SVC': (SVC(C=1000, class_weight='balanced', gamma=0.1, probability=True), 0.9), 'LogReg': (LogisticRegression(C=0.001, class_weight='balanced', solver='newton-cg'), 0.8833333333333333), 'LDA': (LinearDiscriminantAnalysis(shrinkage=0.8, solver='lsqr'), 0.8833333333333333)}, 'roc_auc': {'SVC': (SVC(C=1, class_weight='balanced', gamma=1, kernel='linear', probability=True), 0.9), 'LogReg': (LogisticRegression(C=0.21209508879201905, solver='liblinear'), 0.9), 'LDA': (LinearDiscriminantAnalysis(shrinkage=0.30000000000000004, solver='lsqr'), 0.9)}, 'f1': {'SVC': (SVC(C=1000, class_weight='balanced', gamma=0.1, probability=True), 0.9), 'LogReg': (LogisticRegression(C=0.0071968567300115215, solver='newton-cg'), 0.8833333333333333), 'LDA': (LinearDiscriminantAnalysis(shrinkage=0.8, solver='lsqr'), 0.8833333333333333)}})\n",
      "************************\n",
      "8-15 : 0.9333333333333333 (accuracy)\n",
      "\n",
      "All Metrics: defaultdict(<class 'dict'>, {'accuracy': {'SVC': (SVC(C=10, class_weight='balanced', gamma=1, kernel='linear', probability=True), 0.9166666666666666), 'LogReg': (LogisticRegression(C=0.022229964825261943, solver='newton-cg'), 0.9333333333333333), 'LDA': (LinearDiscriminantAnalysis(shrinkage=0.9, solver='lsqr'), 0.9333333333333333)}, 'roc_auc': {'SVC': (SVC(C=10, class_weight='balanced', gamma=0.1, probability=True), 0.9333333333333333), 'LogReg': (LogisticRegression(C=0.28117686979742307, class_weight='balanced', penalty='l1',\n",
      "                   solver='liblinear'), 0.9166666666666666), 'LDA': (LinearDiscriminantAnalysis(shrinkage=0.5, solver='lsqr'), 0.9333333333333333)}, 'f1': {'SVC': (SVC(C=1000, class_weight='balanced', gamma=1, probability=True), 0.9), 'LogReg': (LogisticRegression(C=0.022229964825261943, solver='newton-cg'), 0.9333333333333333), 'LDA': (LinearDiscriminantAnalysis(shrinkage=0.9, solver='lsqr'), 0.9333333333333333)}})\n",
      "************************\n",
      "13-30 : 0.8666666666666667 (accuracy)\n",
      "\n",
      "All Metrics: defaultdict(<class 'dict'>, {'accuracy': {'SVC': (SVC(C=1, class_weight='balanced', gamma=0.1, probability=True), 0.8666666666666667), 'LogReg': (LogisticRegression(C=0.029470517025518096, class_weight='balanced',\n",
      "                   solver='liblinear'), 0.8666666666666667), 'LDA': (LinearDiscriminantAnalysis(shrinkage=0.4, solver='lsqr'), 0.85)}, 'roc_auc': {'SVC': (SVC(C=0.0001, gamma=1, kernel='linear', probability=True), 0.85), 'LogReg': (LogisticRegression(C=0.28117686979742307, class_weight='balanced',\n",
      "                   solver='liblinear'), 0.85), 'LDA': (LinearDiscriminantAnalysis(shrinkage=0.5, solver='lsqr'), 0.85)}, 'f1': {'SVC': (SVC(C=1, class_weight='balanced', gamma=0.1, probability=True), 0.8666666666666667), 'LogReg': (LogisticRegression(C=0.029470517025518096, class_weight='balanced',\n",
      "                   solver='liblinear'), 0.8666666666666667), 'LDA': (LinearDiscriminantAnalysis(shrinkage=0.4, solver='lsqr'), 0.85)}})\n",
      "************************\n",
      "\n",
      "None\n",
      "------------\n",
      "8-12 : 0.9 (accuracy)\n",
      "\n",
      "All Metrics: defaultdict(<class 'dict'>, {'accuracy': {'SVC': (SVC(C=10, class_weight='balanced', gamma=0.01, probability=True), 0.8833333333333333), 'LogReg': (LogisticRegression(C=0.21209508879201905, class_weight='balanced',\n",
      "                   solver='liblinear'), 0.9), 'LDA': (LinearDiscriminantAnalysis(shrinkage=0.0, solver='lsqr'), 0.9)}, 'roc_auc': {'SVC': (SVC(C=1000, gamma=0.1, probability=True), 0.9), 'LogReg': (LogisticRegression(C=0.022229964825261943, solver='liblinear'), 0.9), 'LDA': (LinearDiscriminantAnalysis(shrinkage=0.4, solver='lsqr'), 0.9)}, 'f1': {'SVC': (SVC(C=1000, class_weight='balanced', gamma=0.001, probability=True), 0.9), 'LogReg': (LogisticRegression(C=0.28117686979742307, penalty='l1', solver='liblinear'), 0.9), 'LDA': (LinearDiscriminantAnalysis(shrinkage=0.0, solver='lsqr'), 0.9)}})\n",
      "************************\n",
      "8-15 : 0.9333333333333333 (accuracy)\n",
      "\n",
      "All Metrics: defaultdict(<class 'dict'>, {'accuracy': {'SVC': (SVC(C=1, class_weight='balanced', gamma=1, kernel='linear', probability=True), 0.9166666666666666), 'LogReg': (LogisticRegression(C=0.09102981779915217, class_weight='balanced',\n",
      "                   solver='newton-cg'), 0.9333333333333333), 'LDA': (LinearDiscriminantAnalysis(shrinkage=0.8, solver='lsqr'), 0.9333333333333333)}, 'roc_auc': {'SVC': (SVC(C=0.0001, class_weight='balanced', gamma=1, kernel='linear',\n",
      "    probability=True), 0.5166666666666667), 'LogReg': (LogisticRegression(C=0.012648552168552958, solver='liblinear'), 0.8833333333333333), 'LDA': (LinearDiscriminantAnalysis(shrinkage=0.9, solver='lsqr'), 0.9333333333333333)}, 'f1': {'SVC': (SVC(C=1, class_weight='balanced', gamma=1, kernel='linear', probability=True), 0.9166666666666666), 'LogReg': (LogisticRegression(C=0.15998587196060574, solver='newton-cg'), 0.9333333333333333), 'LDA': (LinearDiscriminantAnalysis(shrinkage=0.30000000000000004, solver='lsqr'), 0.9333333333333333)}})\n",
      "************************\n",
      "13-30 : 0.8666666666666667 (accuracy)\n",
      "\n",
      "All Metrics: defaultdict(<class 'dict'>, {'accuracy': {'SVC': (SVC(C=1, class_weight='balanced', gamma=0.1, probability=True), 0.8666666666666667), 'LogReg': (LogisticRegression(C=0.029470517025518096, class_weight='balanced',\n",
      "                   solver='liblinear'), 0.8666666666666667), 'LDA': (LinearDiscriminantAnalysis(shrinkage=0.7000000000000001, solver='lsqr'), 0.8666666666666667)}, 'roc_auc': {'SVC': (SVC(C=0.0001, class_weight='balanced', gamma=0.01, probability=True), 0.5166666666666667), 'LogReg': (LogisticRegression(C=0.21209508879201905, class_weight='balanced', penalty='l1',\n",
      "                   solver='liblinear'), 0.85), 'LDA': (LinearDiscriminantAnalysis(shrinkage=0.9, solver='lsqr'), 0.8666666666666667)}, 'f1': {'SVC': (SVC(C=1, class_weight='balanced', gamma=0.1, probability=True), 0.8666666666666667), 'LogReg': (LogisticRegression(C=0.03906939937054617, class_weight='balanced',\n",
      "                   solver='liblinear'), 0.8666666666666667), 'LDA': (LinearDiscriminantAnalysis(shrinkage=0.7000000000000001, solver='lsqr'), 0.8666666666666667)}})\n",
      "************************\n",
      "\n"
     ]
    }
   ],
   "source": [
    "#Populate a dictionary with frequency band estimators for each resampling technique\n",
    "\n",
    "for resamplerType in calibDataStore.keys():\n",
    "    print(resamplerType)\n",
    "    print(\"------------\")\n",
    "    bestBand, bestEstimator_freq_band, (best_b, best_a), W_freq_band = testFrequencyBand(dataC,\n",
    "                                                                                         filterBank,\n",
    "                                                                                         0.7,\n",
    "                                                                                         motionIntentComp,\n",
    "                                                                                         idleStateComp,\n",
    "                                                                                         trialWinStart=0,\n",
    "                                                                                         trialWinEnd = 4,\n",
    "                                                                                         resampler=resamplerType)\n",
    "\n",
    "    print()\n",
    "\n",
    "    freqBandEstimators[resamplerType] = (bestBand, bestEstimator_freq_band, (best_b, best_a), W_freq_band)\n"
   ]
  },
  {
   "cell_type": "code",
   "execution_count": 15,
   "metadata": {},
   "outputs": [
    {
     "name": "stdout",
     "output_type": "stream",
     "text": [
      "RO resampler optimal threshold : 0.5062945658323741\n",
      "SMOTE resampler optimal threshold : 0.5681808307975954\n",
      "RU resampler optimal threshold : 0.5125974014986949\n",
      "CC resampler optimal threshold : 0.4852838921735256\n",
      "None resampler optimal threshold : 0.5165219508613709\n"
     ]
    },
    {
     "data": {
      "image/png": "[encoded data removed]",
      "text/plain": [
       "<Figure size 800x600 with 1 Axes>"
      ]
     },
     "metadata": {},
     "output_type": "display_data"
    }
   ],
   "source": [
    "plt.figure(figsize=(8, 6))\n",
    "colour_idx = 0\n",
    "colours = ['purple', 'green', 'red','orange','blue']\n",
    "\n",
    "for name, (best_band,estimator, filter_b_a, best_W) in freqBandEstimators.items():\n",
    "    probs = cross_val_predict(estimator, testData_motionIntent.iloc[:,:nCols-1], testData_motionIntent.iloc[:,nCols-1], cv=5, method=\"predict_proba\")\n",
    "    probs = probs[:, 1]  # use the probability of the positive class\n",
    "    true_labels = testData_motionIntent.iloc[:,nCols-1]\n",
    "\n",
    "    # Calculate ROC curve and AUC score\n",
    "    fpr, tpr, thresholds = roc_curve(true_labels, probs)\n",
    "    auc_score = auc(fpr, tpr)\n",
    "\n",
    "    # Plot ROC curve for current model\n",
    "    plt.plot(fpr, tpr, color=colours[colour_idx], label= name + ' (area = %0.2f)' % auc_score)\n",
    "    colour_idx += 1\n",
    "\n",
    "    optimal_idx = np.argmax(tpr - fpr)\n",
    "    optimal_threshold = thresholds[optimal_idx]\n",
    "    print(f\"{name} resampler optimal threshold : {optimal_threshold}\")\n",
    "\n",
    "plt.plot([0, 1], [0, 1], 'k--',alpha=0.2)\n",
    "plt.xlim([0.0, 1.0])\n",
    "plt.ylim([0.0, 1.05])\n",
    "plt.xlabel('False Positive Rate')\n",
    "plt.ylabel('True Positive Rate')\n",
    "plt.title('Receiver Operating Characteristic')\n",
    "plt.legend(loc=\"lower right\")\n",
    "plt.show()\n"
   ]
  },
  {
   "cell_type": "code",
   "execution_count": 16,
   "metadata": {},
   "outputs": [],
   "source": [
    "_, bestEstimator_freq_band, (best_b,best_a), W_freq_band = freqBandEstimators[\"None\"]\n"
   ]
  },
  {
   "cell_type": "code",
   "execution_count": 17,
   "metadata": {},
   "outputs": [
    {
     "data": {
      "text/html": [
       "<style>#sk-container-id-1 {color: black;background-color: white;}#sk-container-id-1 pre{padding: 0;}#sk-container-id-1 div.sk-toggleable {background-color: white;}#sk-container-id-1 label.sk-toggleable__label {cursor: pointer;display: block;width: 100%;margin-bottom: 0;padding: 0.3em;box-sizing: border-box;text-align: center;}#sk-container-id-1 label.sk-toggleable__label-arrow:before {content: \"▸\";float: left;margin-right: 0.25em;color: #696969;}#sk-container-id-1 label.sk-toggleable__label-arrow:hover:before {color: black;}#sk-container-id-1 div.sk-estimator:hover label.sk-toggleable__label-arrow:before {color: black;}#sk-container-id-1 div.sk-toggleable__content {max-height: 0;max-width: 0;overflow: hidden;text-align: left;background-color: #f0f8ff;}#sk-container-id-1 div.sk-toggleable__content pre {margin: 0.2em;color: black;border-radius: 0.25em;background-color: #f0f8ff;}#sk-container-id-1 input.sk-toggleable__control:checked~div.sk-toggleable__content {max-height: 200px;max-width: 100%;overflow: auto;}#sk-container-id-1 input.sk-toggleable__control:checked~label.sk-toggleable__label-arrow:before {content: \"▾\";}#sk-container-id-1 div.sk-estimator input.sk-toggleable__control:checked~label.sk-toggleable__label {background-color: #d4ebff;}#sk-container-id-1 div.sk-label input.sk-toggleable__control:checked~label.sk-toggleable__label {background-color: #d4ebff;}#sk-container-id-1 input.sk-hidden--visually {border: 0;clip: rect(1px 1px 1px 1px);clip: rect(1px, 1px, 1px, 1px);height: 1px;margin: -1px;overflow: hidden;padding: 0;position: absolute;width: 1px;}#sk-container-id-1 div.sk-estimator {font-family: monospace;background-color: #f0f8ff;border: 1px dotted black;border-radius: 0.25em;box-sizing: border-box;margin-bottom: 0.5em;}#sk-container-id-1 div.sk-estimator:hover {background-color: #d4ebff;}#sk-container-id-1 div.sk-parallel-item::after {content: \"\";width: 100%;border-bottom: 1px solid gray;flex-grow: 1;}#sk-container-id-1 div.sk-label:hover label.sk-toggleable__label {background-color: #d4ebff;}#sk-container-id-1 div.sk-serial::before {content: \"\";position: absolute;border-left: 1px solid gray;box-sizing: border-box;top: 0;bottom: 0;left: 50%;z-index: 0;}#sk-container-id-1 div.sk-serial {display: flex;flex-direction: column;align-items: center;background-color: white;padding-right: 0.2em;padding-left: 0.2em;position: relative;}#sk-container-id-1 div.sk-item {position: relative;z-index: 1;}#sk-container-id-1 div.sk-parallel {display: flex;align-items: stretch;justify-content: center;background-color: white;position: relative;}#sk-container-id-1 div.sk-item::before, #sk-container-id-1 div.sk-parallel-item::before {content: \"\";position: absolute;border-left: 1px solid gray;box-sizing: border-box;top: 0;bottom: 0;left: 50%;z-index: -1;}#sk-container-id-1 div.sk-parallel-item {display: flex;flex-direction: column;z-index: 1;position: relative;background-color: white;}#sk-container-id-1 div.sk-parallel-item:first-child::after {align-self: flex-end;width: 50%;}#sk-container-id-1 div.sk-parallel-item:last-child::after {align-self: flex-start;width: 50%;}#sk-container-id-1 div.sk-parallel-item:only-child::after {width: 0;}#sk-container-id-1 div.sk-dashed-wrapped {border: 1px dashed gray;margin: 0 0.4em 0.5em 0.4em;box-sizing: border-box;padding-bottom: 0.4em;background-color: white;}#sk-container-id-1 div.sk-label label {font-family: monospace;font-weight: bold;display: inline-block;line-height: 1.2em;}#sk-container-id-1 div.sk-label-container {text-align: center;}#sk-container-id-1 div.sk-container {/* jupyter's `normalize.less` sets `[hidden] { display: none; }` but bootstrap.min.css set `[hidden] { display: none !important; }` so we also need the `!important` here to be able to override the default hidden behavior on the sphinx rendered scikit-learn.org. See: https://github.com/scikit-learn/scikit-learn/issues/21755 */display: inline-block !important;position: relative;}#sk-container-id-1 div.sk-text-repr-fallback {display: none;}</style><div id=\"sk-container-id-1\" class=\"sk-top-container\"><div class=\"sk-text-repr-fallback\"><pre>LogisticRegression(C=0.09102981779915217, class_weight=&#x27;balanced&#x27;,\n",
       "                   solver=&#x27;newton-cg&#x27;)</pre><b>In a Jupyter environment, please rerun this cell to show the HTML representation or trust the notebook. <br />On GitHub, the HTML representation is unable to render, please try loading this page with nbviewer.org.</b></div><div class=\"sk-container\" hidden><div class=\"sk-item\"><div class=\"sk-estimator sk-toggleable\"><input class=\"sk-toggleable__control sk-hidden--visually\" id=\"sk-estimator-id-1\" type=\"checkbox\" checked><label for=\"sk-estimator-id-1\" class=\"sk-toggleable__label sk-toggleable__label-arrow\">LogisticRegression</label><div class=\"sk-toggleable__content\"><pre>LogisticRegression(C=0.09102981779915217, class_weight=&#x27;balanced&#x27;,\n",
       "                   solver=&#x27;newton-cg&#x27;)</pre></div></div></div></div></div>"
      ],
      "text/plain": [
       "LogisticRegression(C=0.09102981779915217, class_weight='balanced',\n",
       "                   solver='newton-cg')"
      ]
     },
     "execution_count": 17,
     "metadata": {},
     "output_type": "execute_result"
    }
   ],
   "source": [
    "bestEstimator_freq_band"
   ]
  },
  {
   "attachments": {},
   "cell_type": "markdown",
   "metadata": {},
   "source": [
    "### Person's Correlation Coefficient (PCC) + CSP"
   ]
  },
  {
   "cell_type": "code",
   "execution_count": 18,
   "metadata": {},
   "outputs": [],
   "source": [
    "# #Plot distributions of channels against eachother\n",
    "# # to find out if there is any sort of positive correlation\n",
    "# # between channels\n",
    "\n",
    "# import seaborn as sns\n",
    "# import pandas as pd\n",
    "# from sklearn.preprocessing import StandardScaler\n",
    "# trialWin = np.arange(int(0*sRate),int(4*sRate))\n",
    "\n",
    "# # #get mixed trial data from original\n",
    "# trials_mixed = np.zeros(\n",
    "#             (nChannels, len(eventOnsets[0]), len(trialWin)))\n",
    "\n",
    "\n",
    "# for i, onset in enumerate(eventOnsets[0]):\n",
    "#     trials_mixed[:,i,:] = eeg[:,onset+trialWin]\n",
    "\n",
    "# # By augmenting the algorithm outlined in [ref: Electroencephalogram channel selection based on pearson correlation coefficient for motor imagery-brain-computer interface]\n",
    "# # we are able to extract the most correlated channels in the given data prior to selecting features with the CSP algorithm.\n",
    "\n",
    "\n",
    "# scaler = StandardScaler()\n",
    "\n",
    "# # For each trial\n",
    "# #We must standardize the values in each trial window for each channel (We use z-score normalization for this)\n",
    "# _, nTrials, _ = trials_mixed.shape\n",
    "\n",
    "# trialChannelCorrelations = []\n",
    "\n",
    "# plotFirst = False #flag to check that heatmap of first trial is plotted\n",
    "\n",
    "# for trial in range(nTrials):\n",
    "\n",
    "#     zTrial = scaler.fit_transform(trials_mixed[:,trial,:])\n",
    "#     corrMat = np.corrcoef(zTrial)\n",
    "\n",
    "#     if not plotFirst:\n",
    "#         plt.figure(figsize=(15, 16))\n",
    "#         sns.heatmap(pd.DataFrame(corrMat,columns=channelNames,index=channelNames),cmap=\"RdYlGn\",vmin=-1,vmax=1)\n",
    "#         plotFirst = True\n",
    "\n",
    "# #     # We must then calculate the correlation matrices for each trial and return the mean for each row, giving us a vector of mean values\n",
    "# #     # which represents the average corellation values for a specific channel in relation to other channels.\n",
    "#     channelCorrValues = {ch:corrMean for (ch,corrMean) in zip(channelNames,np.mean(corrMat,axis=1))}\n",
    "\n",
    "# #     #Following the above referenced paper, we select the first 14 channels\n",
    "\n",
    "#     channelCorrValues = dict(sorted(channelCorrValues.items(), key=lambda x:x[1], reverse=True)[:14])\n",
    "#     trialChannelCorrelations.append(channelCorrValues)\n"
   ]
  },
  {
   "cell_type": "code",
   "execution_count": 19,
   "metadata": {},
   "outputs": [],
   "source": [
    "# from collections import defaultdict\n",
    "\n",
    "# channelOccurences = defaultdict(int)\n",
    "\n",
    "# for dic in trialChannelCorrelations:\n",
    "#     for ch, _ in dic.items():\n",
    "#         channelOccurences[ch] += 1\n",
    "\n",
    "\n",
    "# # This represent the most correlated channels ordered (descending) by the number of time they appear\n",
    "# # in the most correlated channel list for each trial\n",
    "# channelOccurences = dict(sorted(channelOccurences.items(), key=lambda x:x[1], reverse=True))\n",
    "\n",
    "# selectedChannels = list(channelOccurences.keys())[:32]\n",
    "# # #It can be seen that all selected channels are in and around the sensorimotor cortex\n",
    "\n",
    "# selectedSet = set(selectedChannels)\n",
    "# selectedIdxs = [idx for idx,ch in enumerate(channelNames) if ch in selectedSet]\n",
    "\n",
    "# # #Plot heatmap of first trial\n",
    "# plt.figure(figsize=(10, 8))\n",
    "# sns.heatmap(pd.DataFrame(np.corrcoef(scaler.fit_transform(trials_mixed[selectedIdxs,0,:])),\n",
    "#             columns=selectedChannels,\n",
    "#             index=selectedChannels),\n",
    "#             cmap=\"RdYlGn\",\n",
    "#             vmin=-1,\n",
    "#             vmax=1)\n"
   ]
  },
  {
   "cell_type": "code",
   "execution_count": 20,
   "metadata": {},
   "outputs": [],
   "source": [
    "# channelNums = dict()\n",
    "\n",
    "# for i in range(2,nChannels+1):\n",
    "#     selectedChannels = list(channelOccurences.keys())[:i]\n",
    "#     # #It can be seen that all selected channels are in and around the sensorimotor cortex\n",
    "\n",
    "#     selectedSet = set(selectedChannels)\n",
    "#     selectedIdxs = [idx for idx,ch in enumerate(channelNames) if ch in selectedSet]\n",
    "\n",
    "#     accVal = 0\n",
    "#     bestAccVal = 0\n",
    "#     bestEstimator_selected_channels = None\n",
    "#     for model in [\"Logistic Regression\",\"LDA\",\"SVC\"]:\n",
    "#         accVal, estimator, W =  testClassifier(dataB,0,4,0.7,model,b=best_b,a=best_a,selectedChannels=selectedIdxs)\n",
    "\n",
    "#         if accVal > bestAccVal:\n",
    "#             bestAccVal = accVal\n",
    "#             bestEstimator_selected_channels = estimator\n",
    "\n",
    "#     channelNums[i] = bestAccVal\n"
   ]
  },
  {
   "cell_type": "code",
   "execution_count": 21,
   "metadata": {},
   "outputs": [],
   "source": [
    "#bestEstimator_selected_channels\n"
   ]
  },
  {
   "cell_type": "code",
   "execution_count": 22,
   "metadata": {},
   "outputs": [],
   "source": [
    "# bestY = 0\n",
    "# for x, y in channelNums.items():\n",
    "#     bestY= max(bestY,y)\n",
    "#     plt.bar(x,y)\n",
    "\n",
    "# plt.xlabel(\"First N selected channels\")\n",
    "# plt.ylabel(\"Accuracy\")\n",
    "# plt.axhline(y=bestY, color='black', ls='--', lw=1.5, label=f\"Best performance({bestY})\")\n",
    "# plt.legend(loc='lower right')\n"
   ]
  },
  {
   "cell_type": "code",
   "execution_count": 23,
   "metadata": {},
   "outputs": [],
   "source": [
    "# probs = cross_val_predict(bestEstimator_selected_channels,testData_motionIntent.iloc[:,:nCols-1], testData_motionIntent.iloc[:,nCols-1],cv=5, method=\"predict_proba\")\n",
    "# probs = probs[:, 1]  # use the probability of the positive class\n",
    "# true_labels = testData_motionIntent.iloc[:,nCols-1]\n",
    "\n",
    "# # Calculate ROC curve and AUC score\n",
    "# fpr, tpr, thresholds = roc_curve(true_labels, probs)\n",
    "# auc_score = auc(fpr, tpr)\n",
    "\n",
    "# # Plot ROC curve\n",
    "# plt.plot(fpr, tpr, label='ROC curve (area = %0.2f)' % auc_score)\n",
    "# plt.plot([0, 1], [0, 1], 'k--')\n",
    "# plt.xlim([0.0, 1.0])\n",
    "# plt.ylim([0.0, 1.05])\n",
    "# plt.xlabel('False Positive Rate')\n",
    "# plt.ylabel('True Positive Rate')\n",
    "# plt.title('Receiver operating characteristic')\n",
    "# plt.legend(loc=\"lower right\")\n",
    "# plt.show()\n"
   ]
  },
  {
   "attachments": {},
   "cell_type": "markdown",
   "metadata": {},
   "source": [
    "### Calibration of best classifier to predict probability outputs for all time samples"
   ]
  },
  {
   "cell_type": "code",
   "execution_count": 24,
   "metadata": {},
   "outputs": [],
   "source": [
    "evalDataC = scipy.io.loadmat(\"BCICIV_1eval_1000Hz_mat/BCICIV_eval_ds1c_1000Hz.mat\")\n"
   ]
  },
  {
   "cell_type": "code",
   "execution_count": 25,
   "metadata": {},
   "outputs": [
    {
     "data": {
      "text/html": [
       "<style>#sk-container-id-2 {color: black;background-color: white;}#sk-container-id-2 pre{padding: 0;}#sk-container-id-2 div.sk-toggleable {background-color: white;}#sk-container-id-2 label.sk-toggleable__label {cursor: pointer;display: block;width: 100%;margin-bottom: 0;padding: 0.3em;box-sizing: border-box;text-align: center;}#sk-container-id-2 label.sk-toggleable__label-arrow:before {content: \"▸\";float: left;margin-right: 0.25em;color: #696969;}#sk-container-id-2 label.sk-toggleable__label-arrow:hover:before {color: black;}#sk-container-id-2 div.sk-estimator:hover label.sk-toggleable__label-arrow:before {color: black;}#sk-container-id-2 div.sk-toggleable__content {max-height: 0;max-width: 0;overflow: hidden;text-align: left;background-color: #f0f8ff;}#sk-container-id-2 div.sk-toggleable__content pre {margin: 0.2em;color: black;border-radius: 0.25em;background-color: #f0f8ff;}#sk-container-id-2 input.sk-toggleable__control:checked~div.sk-toggleable__content {max-height: 200px;max-width: 100%;overflow: auto;}#sk-container-id-2 input.sk-toggleable__control:checked~label.sk-toggleable__label-arrow:before {content: \"▾\";}#sk-container-id-2 div.sk-estimator input.sk-toggleable__control:checked~label.sk-toggleable__label {background-color: #d4ebff;}#sk-container-id-2 div.sk-label input.sk-toggleable__control:checked~label.sk-toggleable__label {background-color: #d4ebff;}#sk-container-id-2 input.sk-hidden--visually {border: 0;clip: rect(1px 1px 1px 1px);clip: rect(1px, 1px, 1px, 1px);height: 1px;margin: -1px;overflow: hidden;padding: 0;position: absolute;width: 1px;}#sk-container-id-2 div.sk-estimator {font-family: monospace;background-color: #f0f8ff;border: 1px dotted black;border-radius: 0.25em;box-sizing: border-box;margin-bottom: 0.5em;}#sk-container-id-2 div.sk-estimator:hover {background-color: #d4ebff;}#sk-container-id-2 div.sk-parallel-item::after {content: \"\";width: 100%;border-bottom: 1px solid gray;flex-grow: 1;}#sk-container-id-2 div.sk-label:hover label.sk-toggleable__label {background-color: #d4ebff;}#sk-container-id-2 div.sk-serial::before {content: \"\";position: absolute;border-left: 1px solid gray;box-sizing: border-box;top: 0;bottom: 0;left: 50%;z-index: 0;}#sk-container-id-2 div.sk-serial {display: flex;flex-direction: column;align-items: center;background-color: white;padding-right: 0.2em;padding-left: 0.2em;position: relative;}#sk-container-id-2 div.sk-item {position: relative;z-index: 1;}#sk-container-id-2 div.sk-parallel {display: flex;align-items: stretch;justify-content: center;background-color: white;position: relative;}#sk-container-id-2 div.sk-item::before, #sk-container-id-2 div.sk-parallel-item::before {content: \"\";position: absolute;border-left: 1px solid gray;box-sizing: border-box;top: 0;bottom: 0;left: 50%;z-index: -1;}#sk-container-id-2 div.sk-parallel-item {display: flex;flex-direction: column;z-index: 1;position: relative;background-color: white;}#sk-container-id-2 div.sk-parallel-item:first-child::after {align-self: flex-end;width: 50%;}#sk-container-id-2 div.sk-parallel-item:last-child::after {align-self: flex-start;width: 50%;}#sk-container-id-2 div.sk-parallel-item:only-child::after {width: 0;}#sk-container-id-2 div.sk-dashed-wrapped {border: 1px dashed gray;margin: 0 0.4em 0.5em 0.4em;box-sizing: border-box;padding-bottom: 0.4em;background-color: white;}#sk-container-id-2 div.sk-label label {font-family: monospace;font-weight: bold;display: inline-block;line-height: 1.2em;}#sk-container-id-2 div.sk-label-container {text-align: center;}#sk-container-id-2 div.sk-container {/* jupyter's `normalize.less` sets `[hidden] { display: none; }` but bootstrap.min.css set `[hidden] { display: none !important; }` so we also need the `!important` here to be able to override the default hidden behavior on the sphinx rendered scikit-learn.org. See: https://github.com/scikit-learn/scikit-learn/issues/21755 */display: inline-block !important;position: relative;}#sk-container-id-2 div.sk-text-repr-fallback {display: none;}</style><div id=\"sk-container-id-2\" class=\"sk-top-container\"><div class=\"sk-text-repr-fallback\"><pre>LogisticRegression(C=0.09102981779915217, class_weight=&#x27;balanced&#x27;,\n",
       "                   solver=&#x27;newton-cg&#x27;)</pre><b>In a Jupyter environment, please rerun this cell to show the HTML representation or trust the notebook. <br />On GitHub, the HTML representation is unable to render, please try loading this page with nbviewer.org.</b></div><div class=\"sk-container\" hidden><div class=\"sk-item\"><div class=\"sk-estimator sk-toggleable\"><input class=\"sk-toggleable__control sk-hidden--visually\" id=\"sk-estimator-id-2\" type=\"checkbox\" checked><label for=\"sk-estimator-id-2\" class=\"sk-toggleable__label sk-toggleable__label-arrow\">LogisticRegression</label><div class=\"sk-toggleable__content\"><pre>LogisticRegression(C=0.09102981779915217, class_weight=&#x27;balanced&#x27;,\n",
       "                   solver=&#x27;newton-cg&#x27;)</pre></div></div></div></div></div>"
      ],
      "text/plain": [
       "LogisticRegression(C=0.09102981779915217, class_weight='balanced',\n",
       "                   solver='newton-cg')"
      ]
     },
     "execution_count": 25,
     "metadata": {},
     "output_type": "execute_result"
    }
   ],
   "source": [
    "bestEstimator_freq_band\n"
   ]
  },
  {
   "cell_type": "code",
   "execution_count": 26,
   "metadata": {},
   "outputs": [
    {
     "data": {
      "text/html": [
       "<style>#sk-container-id-3 {color: black;background-color: white;}#sk-container-id-3 pre{padding: 0;}#sk-container-id-3 div.sk-toggleable {background-color: white;}#sk-container-id-3 label.sk-toggleable__label {cursor: pointer;display: block;width: 100%;margin-bottom: 0;padding: 0.3em;box-sizing: border-box;text-align: center;}#sk-container-id-3 label.sk-toggleable__label-arrow:before {content: \"▸\";float: left;margin-right: 0.25em;color: #696969;}#sk-container-id-3 label.sk-toggleable__label-arrow:hover:before {color: black;}#sk-container-id-3 div.sk-estimator:hover label.sk-toggleable__label-arrow:before {color: black;}#sk-container-id-3 div.sk-toggleable__content {max-height: 0;max-width: 0;overflow: hidden;text-align: left;background-color: #f0f8ff;}#sk-container-id-3 div.sk-toggleable__content pre {margin: 0.2em;color: black;border-radius: 0.25em;background-color: #f0f8ff;}#sk-container-id-3 input.sk-toggleable__control:checked~div.sk-toggleable__content {max-height: 200px;max-width: 100%;overflow: auto;}#sk-container-id-3 input.sk-toggleable__control:checked~label.sk-toggleable__label-arrow:before {content: \"▾\";}#sk-container-id-3 div.sk-estimator input.sk-toggleable__control:checked~label.sk-toggleable__label {background-color: #d4ebff;}#sk-container-id-3 div.sk-label input.sk-toggleable__control:checked~label.sk-toggleable__label {background-color: #d4ebff;}#sk-container-id-3 input.sk-hidden--visually {border: 0;clip: rect(1px 1px 1px 1px);clip: rect(1px, 1px, 1px, 1px);height: 1px;margin: -1px;overflow: hidden;padding: 0;position: absolute;width: 1px;}#sk-container-id-3 div.sk-estimator {font-family: monospace;background-color: #f0f8ff;border: 1px dotted black;border-radius: 0.25em;box-sizing: border-box;margin-bottom: 0.5em;}#sk-container-id-3 div.sk-estimator:hover {background-color: #d4ebff;}#sk-container-id-3 div.sk-parallel-item::after {content: \"\";width: 100%;border-bottom: 1px solid gray;flex-grow: 1;}#sk-container-id-3 div.sk-label:hover label.sk-toggleable__label {background-color: #d4ebff;}#sk-container-id-3 div.sk-serial::before {content: \"\";position: absolute;border-left: 1px solid gray;box-sizing: border-box;top: 0;bottom: 0;left: 50%;z-index: 0;}#sk-container-id-3 div.sk-serial {display: flex;flex-direction: column;align-items: center;background-color: white;padding-right: 0.2em;padding-left: 0.2em;position: relative;}#sk-container-id-3 div.sk-item {position: relative;z-index: 1;}#sk-container-id-3 div.sk-parallel {display: flex;align-items: stretch;justify-content: center;background-color: white;position: relative;}#sk-container-id-3 div.sk-item::before, #sk-container-id-3 div.sk-parallel-item::before {content: \"\";position: absolute;border-left: 1px solid gray;box-sizing: border-box;top: 0;bottom: 0;left: 50%;z-index: -1;}#sk-container-id-3 div.sk-parallel-item {display: flex;flex-direction: column;z-index: 1;position: relative;background-color: white;}#sk-container-id-3 div.sk-parallel-item:first-child::after {align-self: flex-end;width: 50%;}#sk-container-id-3 div.sk-parallel-item:last-child::after {align-self: flex-start;width: 50%;}#sk-container-id-3 div.sk-parallel-item:only-child::after {width: 0;}#sk-container-id-3 div.sk-dashed-wrapped {border: 1px dashed gray;margin: 0 0.4em 0.5em 0.4em;box-sizing: border-box;padding-bottom: 0.4em;background-color: white;}#sk-container-id-3 div.sk-label label {font-family: monospace;font-weight: bold;display: inline-block;line-height: 1.2em;}#sk-container-id-3 div.sk-label-container {text-align: center;}#sk-container-id-3 div.sk-container {/* jupyter's `normalize.less` sets `[hidden] { display: none; }` but bootstrap.min.css set `[hidden] { display: none !important; }` so we also need the `!important` here to be able to override the default hidden behavior on the sphinx rendered scikit-learn.org. See: https://github.com/scikit-learn/scikit-learn/issues/21755 */display: inline-block !important;position: relative;}#sk-container-id-3 div.sk-text-repr-fallback {display: none;}</style><div id=\"sk-container-id-3\" class=\"sk-top-container\"><div class=\"sk-text-repr-fallback\"><pre>LogisticRegression(C=0.001, class_weight=&#x27;balanced&#x27;, solver=&#x27;newton-cg&#x27;)</pre><b>In a Jupyter environment, please rerun this cell to show the HTML representation or trust the notebook. <br />On GitHub, the HTML representation is unable to render, please try loading this page with nbviewer.org.</b></div><div class=\"sk-container\" hidden><div class=\"sk-item\"><div class=\"sk-estimator sk-toggleable\"><input class=\"sk-toggleable__control sk-hidden--visually\" id=\"sk-estimator-id-3\" type=\"checkbox\" checked><label for=\"sk-estimator-id-3\" class=\"sk-toggleable__label sk-toggleable__label-arrow\">LogisticRegression</label><div class=\"sk-toggleable__content\"><pre>LogisticRegression(C=0.001, class_weight=&#x27;balanced&#x27;, solver=&#x27;newton-cg&#x27;)</pre></div></div></div></div></div>"
      ],
      "text/plain": [
       "LogisticRegression(C=0.001, class_weight='balanced', solver='newton-cg')"
      ]
     },
     "execution_count": 26,
     "metadata": {},
     "output_type": "execute_result"
    }
   ],
   "source": [
    "idlesStateClassifier\n"
   ]
  },
  {
   "cell_type": "code",
   "execution_count": 27,
   "metadata": {},
   "outputs": [
    {
     "data": {
      "text/html": [
       "<style>#sk-container-id-4 {color: black;background-color: white;}#sk-container-id-4 pre{padding: 0;}#sk-container-id-4 div.sk-toggleable {background-color: white;}#sk-container-id-4 label.sk-toggleable__label {cursor: pointer;display: block;width: 100%;margin-bottom: 0;padding: 0.3em;box-sizing: border-box;text-align: center;}#sk-container-id-4 label.sk-toggleable__label-arrow:before {content: \"▸\";float: left;margin-right: 0.25em;color: #696969;}#sk-container-id-4 label.sk-toggleable__label-arrow:hover:before {color: black;}#sk-container-id-4 div.sk-estimator:hover label.sk-toggleable__label-arrow:before {color: black;}#sk-container-id-4 div.sk-toggleable__content {max-height: 0;max-width: 0;overflow: hidden;text-align: left;background-color: #f0f8ff;}#sk-container-id-4 div.sk-toggleable__content pre {margin: 0.2em;color: black;border-radius: 0.25em;background-color: #f0f8ff;}#sk-container-id-4 input.sk-toggleable__control:checked~div.sk-toggleable__content {max-height: 200px;max-width: 100%;overflow: auto;}#sk-container-id-4 input.sk-toggleable__control:checked~label.sk-toggleable__label-arrow:before {content: \"▾\";}#sk-container-id-4 div.sk-estimator input.sk-toggleable__control:checked~label.sk-toggleable__label {background-color: #d4ebff;}#sk-container-id-4 div.sk-label input.sk-toggleable__control:checked~label.sk-toggleable__label {background-color: #d4ebff;}#sk-container-id-4 input.sk-hidden--visually {border: 0;clip: rect(1px 1px 1px 1px);clip: rect(1px, 1px, 1px, 1px);height: 1px;margin: -1px;overflow: hidden;padding: 0;position: absolute;width: 1px;}#sk-container-id-4 div.sk-estimator {font-family: monospace;background-color: #f0f8ff;border: 1px dotted black;border-radius: 0.25em;box-sizing: border-box;margin-bottom: 0.5em;}#sk-container-id-4 div.sk-estimator:hover {background-color: #d4ebff;}#sk-container-id-4 div.sk-parallel-item::after {content: \"\";width: 100%;border-bottom: 1px solid gray;flex-grow: 1;}#sk-container-id-4 div.sk-label:hover label.sk-toggleable__label {background-color: #d4ebff;}#sk-container-id-4 div.sk-serial::before {content: \"\";position: absolute;border-left: 1px solid gray;box-sizing: border-box;top: 0;bottom: 0;left: 50%;z-index: 0;}#sk-container-id-4 div.sk-serial {display: flex;flex-direction: column;align-items: center;background-color: white;padding-right: 0.2em;padding-left: 0.2em;position: relative;}#sk-container-id-4 div.sk-item {position: relative;z-index: 1;}#sk-container-id-4 div.sk-parallel {display: flex;align-items: stretch;justify-content: center;background-color: white;position: relative;}#sk-container-id-4 div.sk-item::before, #sk-container-id-4 div.sk-parallel-item::before {content: \"\";position: absolute;border-left: 1px solid gray;box-sizing: border-box;top: 0;bottom: 0;left: 50%;z-index: -1;}#sk-container-id-4 div.sk-parallel-item {display: flex;flex-direction: column;z-index: 1;position: relative;background-color: white;}#sk-container-id-4 div.sk-parallel-item:first-child::after {align-self: flex-end;width: 50%;}#sk-container-id-4 div.sk-parallel-item:last-child::after {align-self: flex-start;width: 50%;}#sk-container-id-4 div.sk-parallel-item:only-child::after {width: 0;}#sk-container-id-4 div.sk-dashed-wrapped {border: 1px dashed gray;margin: 0 0.4em 0.5em 0.4em;box-sizing: border-box;padding-bottom: 0.4em;background-color: white;}#sk-container-id-4 div.sk-label label {font-family: monospace;font-weight: bold;display: inline-block;line-height: 1.2em;}#sk-container-id-4 div.sk-label-container {text-align: center;}#sk-container-id-4 div.sk-container {/* jupyter's `normalize.less` sets `[hidden] { display: none; }` but bootstrap.min.css set `[hidden] { display: none !important; }` so we also need the `!important` here to be able to override the default hidden behavior on the sphinx rendered scikit-learn.org. See: https://github.com/scikit-learn/scikit-learn/issues/21755 */display: inline-block !important;position: relative;}#sk-container-id-4 div.sk-text-repr-fallback {display: none;}</style><div id=\"sk-container-id-4\" class=\"sk-top-container\"><div class=\"sk-text-repr-fallback\"><pre>CalibratedClassifierCV(cv=&#x27;prefit&#x27;,\n",
       "                       estimator=LogisticRegression(C=0.09102981779915217,\n",
       "                                                    class_weight=&#x27;balanced&#x27;,\n",
       "                                                    solver=&#x27;newton-cg&#x27;))</pre><b>In a Jupyter environment, please rerun this cell to show the HTML representation or trust the notebook. <br />On GitHub, the HTML representation is unable to render, please try loading this page with nbviewer.org.</b></div><div class=\"sk-container\" hidden><div class=\"sk-item sk-dashed-wrapped\"><div class=\"sk-label-container\"><div class=\"sk-label sk-toggleable\"><input class=\"sk-toggleable__control sk-hidden--visually\" id=\"sk-estimator-id-4\" type=\"checkbox\" ><label for=\"sk-estimator-id-4\" class=\"sk-toggleable__label sk-toggleable__label-arrow\">CalibratedClassifierCV</label><div class=\"sk-toggleable__content\"><pre>CalibratedClassifierCV(cv=&#x27;prefit&#x27;,\n",
       "                       estimator=LogisticRegression(C=0.09102981779915217,\n",
       "                                                    class_weight=&#x27;balanced&#x27;,\n",
       "                                                    solver=&#x27;newton-cg&#x27;))</pre></div></div></div><div class=\"sk-parallel\"><div class=\"sk-parallel-item\"><div class=\"sk-item\"><div class=\"sk-label-container\"><div class=\"sk-label sk-toggleable\"><input class=\"sk-toggleable__control sk-hidden--visually\" id=\"sk-estimator-id-5\" type=\"checkbox\" ><label for=\"sk-estimator-id-5\" class=\"sk-toggleable__label sk-toggleable__label-arrow\">estimator: LogisticRegression</label><div class=\"sk-toggleable__content\"><pre>LogisticRegression(C=0.09102981779915217, class_weight=&#x27;balanced&#x27;,\n",
       "                   solver=&#x27;newton-cg&#x27;)</pre></div></div></div><div class=\"sk-serial\"><div class=\"sk-item\"><div class=\"sk-estimator sk-toggleable\"><input class=\"sk-toggleable__control sk-hidden--visually\" id=\"sk-estimator-id-6\" type=\"checkbox\" ><label for=\"sk-estimator-id-6\" class=\"sk-toggleable__label sk-toggleable__label-arrow\">LogisticRegression</label><div class=\"sk-toggleable__content\"><pre>LogisticRegression(C=0.09102981779915217, class_weight=&#x27;balanced&#x27;,\n",
       "                   solver=&#x27;newton-cg&#x27;)</pre></div></div></div></div></div></div></div></div></div></div>"
      ],
      "text/plain": [
       "CalibratedClassifierCV(cv='prefit',\n",
       "                       estimator=LogisticRegression(C=0.09102981779915217,\n",
       "                                                    class_weight='balanced',\n",
       "                                                    solver='newton-cg'))"
      ]
     },
     "execution_count": 27,
     "metadata": {},
     "output_type": "execute_result"
    }
   ],
   "source": [
    "\n",
    "from sklearn.calibration import CalibratedClassifierCV\n",
    "\n",
    "bestEstimator_freq_band = CalibratedClassifierCV(bestEstimator_freq_band,cv=\"prefit\")\n",
    "bestEstimator_freq_band.fit(testData_motionIntent.iloc[:,:nCols-1], testData_motionIntent.iloc[:,nCols-1])\n"
   ]
  },
  {
   "cell_type": "code",
   "execution_count": 28,
   "metadata": {},
   "outputs": [],
   "source": [
    "probabilities = startRunningClassifier(evalDataC,bestEstimator_freq_band,idlesStateClassifier,motionIntentComp, idleStateComp,W_freq_band,W_idle_motionIntent,trialWinStart=0,trialWinEnd=4,b=best_b,a=best_a)\n"
   ]
  },
  {
   "cell_type": "code",
   "execution_count": 30,
   "metadata": {},
   "outputs": [],
   "source": [
    "import csv\n",
    "\n",
    "with open(\"output_subject_c_1000Hz.csv\", \"w\") as f:\n",
    "    wr = csv.writer(f)\n",
    "    wr.writerows(probabilities)\n"
   ]
  }
 ],
 "metadata": {
  "kernelspec": {
   "display_name": "Python 3",
   "language": "python",
   "name": "python3"
  },
  "language_info": {
   "codemirror_mode": {
    "name": "ipython",
    "version": 3
   },
   "file_extension": ".py",
   "mimetype": "text/x-python",
   "name": "python",
   "nbconvert_exporter": "python",
   "pygments_lexer": "ipython3",
   "version": "3.9.0"
  },
  "orig_nbformat": 4,
  "vscode": {
   "interpreter": {
    "hash": "aee8b7b246df8f9039afb4144a1f6fd8d2ca17a180786b69acc140d282b71a49"
   }
  }
 },
 "nbformat": 4,
 "nbformat_minor": 2
}
